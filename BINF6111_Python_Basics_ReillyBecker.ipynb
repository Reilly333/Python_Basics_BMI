{
 "cells": [
  {
   "cell_type": "markdown",
   "metadata": {},
   "source": [
    "# Reilly Becker\n"
   ]
  },
  {
   "cell_type": "markdown",
   "metadata": {},
   "source": [
    "<h3>Email: rbecker2@uncc.edu<h3>"
   ]
  },
  {
   "cell_type": "code",
   "execution_count": 4,
   "metadata": {},
   "outputs": [
    {
     "name": "stdout",
     "output_type": "stream",
     "text": [
      "How many pounds do you weigh?170\n",
      "How many feet tall are you?(excluding inches)5\n",
      "How many inches?10\n"
     ]
    }
   ],
   "source": [
    "weight_lbs = input(\"How many pounds do you weigh?\")\n",
    "height_feet= input(\"How many feet tall are you?(excluding inches)\") \n",
    "height_inches= input(\"How many inches?\")"
   ]
  },
  {
   "cell_type": "code",
   "execution_count": 5,
   "metadata": {},
   "outputs": [],
   "source": [
    "# convert str inputs to int\n",
    "weight_lbs =int(weight_lbs)\n",
    "\n",
    "height_feet =int(height_feet)\n",
    "\n",
    "height_inches = int(height_inches)"
   ]
  },
  {
   "cell_type": "code",
   "execution_count": 6,
   "metadata": {},
   "outputs": [
    {
     "name": "stdout",
     "output_type": "stream",
     "text": [
      "24.392190008869814\n"
     ]
    }
   ],
   "source": [
    "inches_convert = (height_inches)/12\n",
    "total_height_feet = (height_feet)+ (inches_convert)\n",
    "#convert from Feet/ inches to Meters\n",
    "meters = float(total_height_feet) * 0.3048 \n",
    "#convert from Pounds to Kilograms\n",
    "kg = float(weight_lbs) * 0.453592\n",
    "BMI = (kg)/(meters*meters)\n",
    "\n",
    "print(BMI)"
   ]
  },
  {
   "cell_type": "code",
   "execution_count": null,
   "metadata": {},
   "outputs": [],
   "source": []
  }
 ],
 "metadata": {
  "kernelspec": {
   "display_name": "Python 3",
   "language": "python",
   "name": "python3"
  },
  "language_info": {
   "codemirror_mode": {
    "name": "ipython",
    "version": 3
   },
   "file_extension": ".py",
   "mimetype": "text/x-python",
   "name": "python",
   "nbconvert_exporter": "python",
   "pygments_lexer": "ipython3",
   "version": "3.7.1"
  }
 },
 "nbformat": 4,
 "nbformat_minor": 2
}
